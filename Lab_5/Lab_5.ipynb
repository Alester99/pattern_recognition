{
 "cells": [
  {
   "cell_type": "code",
   "execution_count": 1,
   "metadata": {},
   "outputs": [],
   "source": [
    "from keras.datasets import mnist\n",
    "import numpy as np\n",
    "from matplotlib import pyplot as plt"
   ]
  },
  {
   "cell_type": "code",
   "execution_count": 2,
   "metadata": {},
   "outputs": [],
   "source": [
    "(train_X, train_y), (test_X, test_y) = mnist.load_data()"
   ]
  },
  {
   "cell_type": "code",
   "execution_count": 3,
   "metadata": {},
   "outputs": [
    {
     "name": "stdout",
     "output_type": "stream",
     "text": [
      "X_train: (60000, 28, 28)\n",
      "Y_train: (60000,)\n",
      "X_test:  (10000, 28, 28)\n",
      "Y_test:  (10000,)\n"
     ]
    }
   ],
   "source": [
    "print('X_train: ' + str(train_X.shape))\n",
    "print('Y_train: ' + str(train_y.shape))\n",
    "print('X_test:  ' + str(test_X.shape))\n",
    "print('Y_test:  ' + str(test_y.shape))\n",
    "\n",
    "X = np.concatenate((train_X,test_X))\n",
    "Y = np.concatenate((train_y,test_y))"
   ]
  },
  {
   "cell_type": "code",
   "execution_count": 4,
   "metadata": {},
   "outputs": [
    {
     "data": {
      "image/png": "[encoded data removed]",
      "text/plain": [
       "<Figure size 432x288 with 9 Axes>"
      ]
     },
     "metadata": {
      "needs_background": "light"
     },
     "output_type": "display_data"
    }
   ],
   "source": [
    "a = 3; b = 3\n",
    "fig, axs = plt.subplots(a, b)\n",
    "k = 0\n",
    "for i in range (a):\n",
    "    for j in range (b):\n",
    "        axs[i, j].imshow(X[k], cmap=plt.get_cmap('gray'))\n",
    "        k+=1\n",
    "for ax in axs.flat:\n",
    "    ax.axis('off')\n",
    "    \n",
    "plt.show()"
   ]
  },
  {
   "cell_type": "code",
   "execution_count": 5,
   "metadata": {},
   "outputs": [
    {
     "data": {
      "text/plain": [
       "5"
      ]
     },
     "execution_count": 5,
     "metadata": {},
     "output_type": "execute_result"
    }
   ],
   "source": [
    "Y[0]"
   ]
  },
  {
   "cell_type": "markdown",
   "metadata": {},
   "source": [
    "https://habr.com/ru/post/466565/\n",
    "https://dev-gang.ru/article/kak-sgenerirovat-sluczainuu-stroku-v-python-wwnl77lvl4/\n",
    "https://habr.com/ru/post/505616/"
   ]
  },
  {
   "cell_type": "code",
   "execution_count": 6,
   "metadata": {},
   "outputs": [],
   "source": [
    "import secrets\n",
    "import string\n",
    "\n",
    "\n",
    "def generate_alphanum_crypt_string(length):\n",
    "#     letters_and_digits = string.ascii_letters + string.digits\n",
    "#    crypt_rand_string = ''.join(secrets.choice(letters_and_digits) for i in range(length))\n",
    "    crypt_rand_string = np.random.randint(0, 10, length)\n",
    "    return crypt_rand_string"
   ]
  },
  {
   "cell_type": "code",
   "execution_count": 7,
   "metadata": {},
   "outputs": [
    {
     "data": {
      "text/plain": [
       "array([5, 7, 4, 4, 5, 3, 5, 0, 9, 6, 8, 1, 1, 1, 9, 0, 5, 6, 7, 9, 6, 1,\n",
       "       4, 7, 9, 8, 5, 0, 9, 2, 4, 1, 5, 8, 7, 5, 6, 3, 7, 0, 7, 9, 6, 9,\n",
       "       6, 8, 2, 4, 2, 7, 1, 6, 9, 7, 1, 6, 8, 2, 4, 8, 7, 7, 2, 9, 8, 3,\n",
       "       1, 4, 8, 4, 6, 6, 7, 3, 3, 6, 7, 1, 7, 8, 9, 1, 5, 4, 1, 3, 4, 6,\n",
       "       3, 2, 4, 8, 1, 5, 0, 0, 7, 7, 4, 2])"
      ]
     },
     "execution_count": 7,
     "metadata": {},
     "output_type": "execute_result"
    }
   ],
   "source": [
    "generate_alphanum_crypt_string(100)"
   ]
  },
  {
   "cell_type": "code",
   "execution_count": 8,
   "metadata": {},
   "outputs": [],
   "source": [
    "def generate_texts (L):\n",
    "    l = 30\n",
    "    a = np.array(generate_alphanum_crypt_string(l))\n",
    "    for i in range(1,L):\n",
    "        a = np.vstack((a,generate_alphanum_crypt_string(l)))\n",
    "    return a"
   ]
  },
  {
   "cell_type": "code",
   "execution_count": 9,
   "metadata": {},
   "outputs": [
    {
     "name": "stdout",
     "output_type": "stream",
     "text": [
      "(110, 30)\n"
     ]
    }
   ],
   "source": [
    "generated_texts = generate_texts (110)\n",
    "print(generated_texts.shape)"
   ]
  },
  {
   "cell_type": "code",
   "execution_count": 10,
   "metadata": {},
   "outputs": [
    {
     "data": {
      "image/png": "[encoded data removed]",
      "text/plain": [
       "<Figure size 432x288 with 1 Axes>"
      ]
     },
     "metadata": {
      "needs_background": "light"
     },
     "output_type": "display_data"
    }
   ],
   "source": [
    "def get_index(a):\n",
    "    return np.random.choice(np.where(Y == np.uint8(a))[0], 1, replace=False)[0] \n",
    "\n",
    "plt.imshow(X[get_index(0)], cmap=plt.get_cmap('gray'))\n",
    "plt.axis('off')\n",
    "plt.show()"
   ]
  },
  {
   "cell_type": "code",
   "execution_count": 11,
   "metadata": {},
   "outputs": [],
   "source": [
    "def concarnate_symbols (a,b):\n",
    "    mas_a = np.copy(a); mas_b = np.copy(b)\n",
    "    return np.concatenate((mas_a,mas_b),axis = 1)"
   ]
  },
  {
   "cell_type": "code",
   "execution_count": 12,
   "metadata": {},
   "outputs": [
    {
     "data": {
      "image/png": "[encoded data removed]",
      "text/plain": [
       "<Figure size 432x288 with 1 Axes>"
      ]
     },
     "metadata": {
      "needs_background": "light"
     },
     "output_type": "display_data"
    }
   ],
   "source": [
    "plt.imshow(concarnate_symbols (X[0],X[1]), cmap=plt.get_cmap('gray'))\n",
    "plt.axis('off')\n",
    "plt.show()"
   ]
  },
  {
   "cell_type": "code",
   "execution_count": 13,
   "metadata": {},
   "outputs": [],
   "source": [
    "def image_string (L):\n",
    "    mas = np.array(X[get_index([L[0]])])\n",
    "    for i in range(1,len(L)):\n",
    "        mas = concarnate_symbols (mas,X[get_index([L[i]])])\n",
    "    return mas       "
   ]
  },
  {
   "cell_type": "code",
   "execution_count": 14,
   "metadata": {},
   "outputs": [],
   "source": [
    "def show_image_text(image_string,generated_texts,k = 4):\n",
    "    print ('Array parameters for one row')\n",
    "    print(image_string (generated_texts[0]).shape)\n",
    "    print (f'We have {len(generated_texts)} rows \\n')\n",
    "    print(generated_texts[0])\n",
    "    plt.imshow(image_string (generated_texts[0]), cmap=plt.get_cmap('gray'))\n",
    "    plt.axis('off')\n",
    "    plt.show()\n",
    "    mas = np.array([image_string (generated_texts[0])])\n",
    "    for i in range (1,len(generated_texts)):\n",
    "        if i <= k-1: \n",
    "            print(generated_texts[i])\n",
    "            plt.imshow(image_string(generated_texts[i]), cmap=plt.get_cmap('gray'))\n",
    "            plt.axis('off')\n",
    "            plt.show()\n",
    "        mas = np.vstack((mas,[image_string (generated_texts[i])]))\n",
    "    return mas\n",
    "            \n",
    "    \n",
    "        \n",
    "        "
   ]
  },
  {
   "cell_type": "markdown",
   "metadata": {},
   "source": [
    "Якщо зменшити кількість сиволів у рядку, то зображення буде краще виводитися."
   ]
  },
  {
   "cell_type": "code",
   "execution_count": 15,
   "metadata": {},
   "outputs": [
    {
     "name": "stdout",
     "output_type": "stream",
     "text": [
      "Array parameters for one row\n",
      "(28, 840)\n",
      "We have 110 rows \n",
      "\n",
      "[8 8 9 7 1 0 7 8 8 6 6 6 1 6 2 4 6 3 0 3 4 2 2 8 0 2 5 1 1 0]\n"
     ]
    },
    {
     "data": {
      "image/png": "[encoded data removed]",
      "text/plain": [
       "<Figure size 432x288 with 1 Axes>"
      ]
     },
     "metadata": {
      "needs_background": "light"
     },
     "output_type": "display_data"
    },
    {
     "name": "stdout",
     "output_type": "stream",
     "text": [
      "[5 6 3 5 4 2 3 1 2 2 0 9 2 5 0 1 2 8 9 2 8 1 9 0 7 7 7 8 3 5]\n"
     ]
    },
    {
     "data": {
      "image/png": "[encoded data removed]",
      "text/plain": [
       "<Figure size 432x288 with 1 Axes>"
      ]
     },
     "metadata": {
      "needs_background": "light"
     },
     "output_type": "display_data"
    },
    {
     "name": "stdout",
     "output_type": "stream",
     "text": [
      "[8 9 3 7 6 7 9 1 6 0 5 2 6 9 4 0 3 4 8 8 9 4 3 4 8 1 7 8 9 0]\n"
     ]
    },
    {
     "data": {
      "image/png": "[encoded data removed]",
      "text/plain": [
       "<Figure size 432x288 with 1 Axes>"
      ]
     },
     "metadata": {
      "needs_background": "light"
     },
     "output_type": "display_data"
    },
    {
     "name": "stdout",
     "output_type": "stream",
     "text": [
      "[1 0 2 2 2 5 7 9 5 6 3 8 1 5 8 8 7 5 9 2 1 4 4 7 0 1 1 8 8 3]\n"
     ]
    },
    {
     "data": {
      "image/png": "[encoded data removed]",
      "text/plain": [
       "<Figure size 432x288 with 1 Axes>"
      ]
     },
     "metadata": {
      "needs_background": "light"
     },
     "output_type": "display_data"
    }
   ],
   "source": [
    "image_text = show_image_text(image_string,generated_texts,4)"
   ]
  },
  {
   "cell_type": "markdown",
   "metadata": {},
   "source": [
    "https://overcoder.net/q/419744/%D0%BA%D0%B0%D0%BA-%D0%B4%D0%BE%D0%B1%D0%B0%D0%B2%D0%B8%D1%82%D1%8C-%D1%88%D1%83%D0%BC-gaussian-%D1%81%D0%BE%D0%BB%D1%8C-%D0%B8-%D0%BF%D0%B5%D1%80%D0%B5%D1%86-%D0%B8-%D1%82-%D0%B4-%D0%B4%D0%BB%D1%8F-%D0%B8%D0%B7%D0%BE%D0%B1%D1%80%D0%B0%D0%B6%D0%B5%D0%BD%D0%B8%D1%8F-%D0%B2-python-%D1%81-opencv"
   ]
  },
  {
   "cell_type": "code",
   "execution_count": 16,
   "metadata": {},
   "outputs": [],
   "source": [
    "import cv2\n",
    "im = np.zeros(image_string (generated_texts[0]).shape, np.uint8)\n",
    "im = cv2.randn(im,(0),(99))"
   ]
  },
  {
   "cell_type": "code",
   "execution_count": 17,
   "metadata": {},
   "outputs": [],
   "source": [
    "import random\n",
    "def gasuss_noise(image, mean=0, var=0.001):\n",
    "\n",
    "    '''\n",
    "        Добавить гауссовский шум\n",
    "                 Среднее значение: среднее\n",
    "                 Вар: Разнообразие\n",
    "    '''\n",
    "    \n",
    "    image = np.array(image/255, dtype=float)\n",
    "    noise = np.random.normal(mean, var ** 0.5, image.shape)\n",
    "    out = image + noise\n",
    "    if out.min() < 0:\n",
    "        low_clip = -1.\n",
    "    else:\n",
    "        low_clip = 0.\n",
    "    out = np.clip(out, low_clip, 1.0)\n",
    "    out = np.uint8(out*255)\n",
    "\n",
    "    return out"
   ]
  },
  {
   "cell_type": "markdown",
   "metadata": {},
   "source": [
    "https://russianblogs.com/article/63961912329/"
   ]
  },
  {
   "cell_type": "code",
   "execution_count": 18,
   "metadata": {},
   "outputs": [],
   "source": [
    "def create_noise_on_image (M):\n",
    "    mas = np.array([gasuss_noise(np.copy(M[0]), mean=0, var=0.01)])\n",
    "    plt.imshow(mas[0], cmap=plt.get_cmap('gray'))\n",
    "    plt.axis('off')\n",
    "    plt.show()\n",
    "    for i in range(1,len(M)):\n",
    "        mas = np.vstack((mas,[gasuss_noise(np.copy(M[i]), mean=0, var=0.01)]))\n",
    "        if i < 10:\n",
    "            plt.imshow(mas[i], cmap=plt.get_cmap('gray'))\n",
    "            plt.axis('off')\n",
    "            plt.show()\n",
    "    return mas\n",
    "    "
   ]
  },
  {
   "cell_type": "code",
   "execution_count": 19,
   "metadata": {},
   "outputs": [
    {
     "name": "stdout",
     "output_type": "stream",
     "text": [
      "[[0 0 0 ... 0 0 0]\n",
      " [0 0 0 ... 0 0 0]\n",
      " [0 0 0 ... 0 0 0]\n",
      " ...\n",
      " [0 0 0 ... 0 0 0]\n",
      " [0 0 0 ... 0 0 0]\n",
      " [0 0 0 ... 0 0 0]] (28, 840)\n"
     ]
    }
   ],
   "source": [
    "print(image_text[0],image_text[0].shape )\n",
    "# 10 words 28x28"
   ]
  },
  {
   "cell_type": "code",
   "execution_count": 20,
   "metadata": {},
   "outputs": [],
   "source": [
    "#noise_on_image = create_noise_on_image (image_text)\n",
    "noise_on_image = image_text"
   ]
  },
  {
   "cell_type": "code",
   "execution_count": 21,
   "metadata": {},
   "outputs": [
    {
     "data": {
      "image/png": "[encoded data removed]",
      "text/plain": [
       "<Figure size 432x288 with 1 Axes>"
      ]
     },
     "metadata": {
      "needs_background": "light"
     },
     "output_type": "display_data"
    }
   ],
   "source": [
    "plt.imshow(image_text[0], cmap=plt.get_cmap('gray'))\n",
    "plt.axis('off')\n",
    "plt.show()"
   ]
  },
  {
   "cell_type": "code",
   "execution_count": 22,
   "metadata": {},
   "outputs": [
    {
     "data": {
      "image/png": "[encoded data removed]",
      "text/plain": [
       "<Figure size 432x288 with 1 Axes>"
      ]
     },
     "metadata": {
      "needs_background": "light"
     },
     "output_type": "display_data"
    }
   ],
   "source": [
    "plt.imshow(gasuss_noise(X[0], mean=0, var=0.001), cmap=plt.get_cmap('gray'))\n",
    "plt.axis('off')\n",
    "plt.show()"
   ]
  },
  {
   "cell_type": "code",
   "execution_count": 23,
   "metadata": {},
   "outputs": [],
   "source": [
    "def char_i_j (image_text,i,j):\n",
    "    a = np.copy(image_text[i][0:28])#[0:28] j*28:(j+1)*28\n",
    "    a = a[0:28,j*28:(j+1)*28]\n",
    "#     plt.imshow(a, cmap=plt.get_cmap('gray'))\n",
    "#     plt.axis('off')\n",
    "#     plt.show()\n",
    "    return a"
   ]
  },
  {
   "cell_type": "code",
   "execution_count": 24,
   "metadata": {},
   "outputs": [],
   "source": [
    "def create_x (text_image,i,j):\n",
    "    mas = np.copy(char_i_j (text_image,i,j).reshape((1,28*28)))\n",
    "    return mas"
   ]
  },
  {
   "cell_type": "code",
   "execution_count": 25,
   "metadata": {},
   "outputs": [],
   "source": [
    "def string_of_x(text_image,i):\n",
    "    mas = np.array([create_x (text_image,i,0)])\n",
    "    for j in range(1,int(len(text_image[0][0])/28)):\n",
    "        mas = np.vstack((mas,[create_x (text_image,i,j)]))\n",
    "    return mas\n",
    "                   "
   ]
  },
  {
   "cell_type": "code",
   "execution_count": 26,
   "metadata": {},
   "outputs": [
    {
     "data": {
      "image/png": "[encoded data removed]",
      "text/plain": [
       "<Figure size 432x288 with 1 Axes>"
      ]
     },
     "metadata": {
      "needs_background": "light"
     },
     "output_type": "display_data"
    }
   ],
   "source": [
    "string_of_x(noise_on_image,4).shape\n",
    "plt.imshow(string_of_x(noise_on_image,4)[0][0].reshape((28,28)), cmap=plt.get_cmap('gray'))\n",
    "plt.axis('off')\n",
    "plt.show()\n"
   ]
  },
  {
   "cell_type": "code",
   "execution_count": 27,
   "metadata": {},
   "outputs": [],
   "source": [
    "def text_of_x (text_image):\n",
    "    mas = np.array([string_of_x(text_image,0)])\n",
    "    for i in range(1,len(text_image)):\n",
    "        mas = np.vstack((mas,[string_of_x(text_image,i)]))\n",
    "    return mas"
   ]
  },
  {
   "cell_type": "code",
   "execution_count": 28,
   "metadata": {},
   "outputs": [
    {
     "data": {
      "text/plain": [
       "(10, 30, 1, 784)"
      ]
     },
     "execution_count": 28,
     "metadata": {},
     "output_type": "execute_result"
    }
   ],
   "source": [
    "my_text_of_x = text_of_x (noise_on_image[:10])\n",
    "my_text_of_x.shape"
   ]
  },
  {
   "cell_type": "code",
   "execution_count": 29,
   "metadata": {},
   "outputs": [
    {
     "data": {
      "image/png": "[encoded data removed]",
      "text/plain": [
       "<Figure size 432x288 with 1 Axes>"
      ]
     },
     "metadata": {
      "needs_background": "light"
     },
     "output_type": "display_data"
    },
    {
     "data": {
      "text/plain": [
       "7"
      ]
     },
     "execution_count": 29,
     "metadata": {},
     "output_type": "execute_result"
    }
   ],
   "source": [
    "a = 5; b = 10\n",
    "plt.imshow(char_i_j (noise_on_image,a,b), cmap=plt.get_cmap('gray'))\n",
    "plt.axis('off')\n",
    "plt.show()\n",
    "generated_texts[a][b]"
   ]
  },
  {
   "cell_type": "code",
   "execution_count": 30,
   "metadata": {},
   "outputs": [
    {
     "data": {
      "image/png": "[encoded data removed]",
      "text/plain": [
       "<Figure size 432x288 with 1 Axes>"
      ]
     },
     "metadata": {
      "needs_background": "light"
     },
     "output_type": "display_data"
    }
   ],
   "source": [
    "plt.imshow(my_text_of_x[0][0].reshape((28,28)), cmap=plt.get_cmap('gray'))\n",
    "plt.axis('off')\n",
    "plt.show()"
   ]
  },
  {
   "cell_type": "code",
   "execution_count": 31,
   "metadata": {},
   "outputs": [],
   "source": [
    "L = np.zeros((10,28*28))"
   ]
  },
  {
   "cell_type": "code",
   "execution_count": 32,
   "metadata": {},
   "outputs": [],
   "source": [
    "def special_text_for_L (my_text_of_x,generated_texts,k):\n",
    "    text_for_L = np.zeros(my_text_of_x.shape)\n",
    "    for i in range(len(my_text_of_x)):\n",
    "        for j in range(len(my_text_of_x[0])):\n",
    "            if k == generated_texts[i][j]: text_for_L[i][j] = my_text_of_x[i][j]\n",
    "            else:text_for_L[i][j] = -1*my_text_of_x[i][j];\n",
    "    return text_for_L\n",
    "    "
   ]
  },
  {
   "cell_type": "code",
   "execution_count": 33,
   "metadata": {},
   "outputs": [],
   "source": [
    "def perceptron(my_text_of_x,generated_texts,L):\n",
    "    for k in range (len(L)):\n",
    "        text_for_L = special_text_for_L (my_text_of_x,generated_texts,k)\n",
    "        for i in range(len(my_text_of_x)):\n",
    "            for j in range(len(my_text_of_x[0])):\n",
    "                #if i == 0 and j == 0: print(L[k],text_for_L[i][j])\n",
    "                if np.dot(L[k],text_for_L[i][j][0])<=0:  L[k]+=text_for_L[i][j][0]; return perceptron(my_text_of_x,generated_texts,L);\n",
    "    return L"
   ]
  },
  {
   "cell_type": "code",
   "execution_count": 34,
   "metadata": {},
   "outputs": [],
   "source": [
    "L = perceptron(my_text_of_x,generated_texts,L)"
   ]
  },
  {
   "cell_type": "code",
   "execution_count": 42,
   "metadata": {},
   "outputs": [
    {
     "data": {
      "text/plain": [
       "(10, 784)"
      ]
     },
     "execution_count": 42,
     "metadata": {},
     "output_type": "execute_result"
    }
   ],
   "source": [
    "L.shape"
   ]
  },
  {
   "cell_type": "code",
   "execution_count": 43,
   "metadata": {},
   "outputs": [
    {
     "data": {
      "text/plain": [
       "array([ 0.000e+00,  0.000e+00,  0.000e+00,  0.000e+00,  0.000e+00,\n",
       "        0.000e+00,  0.000e+00,  0.000e+00,  0.000e+00,  0.000e+00,\n",
       "        0.000e+00,  0.000e+00,  0.000e+00,  0.000e+00,  0.000e+00,\n",
       "        0.000e+00,  0.000e+00,  0.000e+00,  0.000e+00,  0.000e+00,\n",
       "        0.000e+00,  0.000e+00,  0.000e+00,  0.000e+00,  0.000e+00,\n",
       "        0.000e+00,  0.000e+00,  0.000e+00,  0.000e+00,  0.000e+00,\n",
       "        0.000e+00,  0.000e+00,  0.000e+00,  0.000e+00,  0.000e+00,\n",
       "        0.000e+00,  0.000e+00,  0.000e+00,  0.000e+00,  0.000e+00,\n",
       "        0.000e+00,  0.000e+00,  0.000e+00,  0.000e+00,  0.000e+00,\n",
       "        0.000e+00,  0.000e+00,  0.000e+00,  0.000e+00,  0.000e+00,\n",
       "        0.000e+00,  0.000e+00,  0.000e+00,  0.000e+00,  0.000e+00,\n",
       "        0.000e+00,  0.000e+00,  0.000e+00,  0.000e+00,  0.000e+00,\n",
       "        0.000e+00,  0.000e+00,  0.000e+00,  0.000e+00,  0.000e+00,\n",
       "        0.000e+00,  0.000e+00,  0.000e+00,  0.000e+00,  0.000e+00,\n",
       "        0.000e+00,  0.000e+00, -1.660e+02, -2.760e+02, -2.540e+02,\n",
       "       -2.540e+02, -7.000e+01,  0.000e+00,  0.000e+00,  0.000e+00,\n",
       "        0.000e+00,  0.000e+00,  0.000e+00,  0.000e+00,  0.000e+00,\n",
       "        0.000e+00,  0.000e+00,  0.000e+00,  0.000e+00,  0.000e+00,\n",
       "        0.000e+00,  0.000e+00,  0.000e+00,  0.000e+00,  0.000e+00,\n",
       "        0.000e+00,  0.000e+00,  7.000e+01,  1.700e+02, -2.050e+02,\n",
       "       -5.980e+02, -8.010e+02, -8.160e+02, -8.950e+02, -5.000e+02,\n",
       "       -2.130e+02, -1.320e+02, -3.100e+01,  0.000e+00,  0.000e+00,\n",
       "        0.000e+00,  0.000e+00,  0.000e+00,  0.000e+00,  0.000e+00,\n",
       "        0.000e+00,  0.000e+00,  0.000e+00,  0.000e+00,  0.000e+00,\n",
       "        0.000e+00,  0.000e+00,  0.000e+00, -2.000e+00, -2.600e+02,\n",
       "       -5.530e+02, -5.040e+02, -1.910e+02, -9.300e+01, -5.070e+02,\n",
       "       -4.460e+02, -4.240e+02, -1.170e+02,  4.690e+02,  5.750e+02,\n",
       "        4.910e+02,  2.130e+02,  0.000e+00,  0.000e+00,  0.000e+00,\n",
       "        0.000e+00,  0.000e+00,  0.000e+00,  0.000e+00,  0.000e+00,\n",
       "        0.000e+00, -2.280e+02, -2.530e+02, -5.300e+01, -8.300e+01,\n",
       "       -1.890e+02, -6.560e+02, -1.047e+03, -8.880e+02,  3.180e+02,\n",
       "       -1.000e+02, -1.800e+02, -5.370e+02,  4.300e+01, -2.130e+02,\n",
       "       -2.460e+02,  1.000e+02,  2.420e+02, -1.740e+02,  3.710e+02,\n",
       "        0.000e+00,  0.000e+00,  0.000e+00,  0.000e+00,  0.000e+00,\n",
       "        0.000e+00,  0.000e+00,  0.000e+00,  0.000e+00, -1.700e+02,\n",
       "       -2.520e+02, -3.650e+02, -2.730e+02, -6.610e+02, -7.400e+02,\n",
       "       -3.960e+02, -1.660e+02,  4.000e+01,  1.780e+02, -1.940e+02,\n",
       "        8.940e+02,  1.348e+03,  1.457e+03,  6.520e+02, -1.770e+02,\n",
       "       -1.520e+02, -4.600e+02, -1.730e+02, -1.410e+02,  0.000e+00,\n",
       "        0.000e+00,  0.000e+00,  0.000e+00, -1.900e+01, -1.040e+02,\n",
       "       -7.000e+01, -1.360e+02, -3.150e+02, -6.980e+02, -7.930e+02,\n",
       "       -7.150e+02, -6.740e+02,  2.990e+02,  5.040e+02,  5.870e+02,\n",
       "        8.330e+02,  1.410e+02,  9.500e+01,  1.176e+03,  1.338e+03,\n",
       "        1.272e+03,  8.170e+02, -1.900e+01, -9.510e+02, -7.910e+02,\n",
       "       -2.080e+02, -2.550e+02, -2.550e+02,  0.000e+00,  0.000e+00,\n",
       "        0.000e+00, -2.040e+02, -2.610e+02, -3.310e+02, -4.070e+02,\n",
       "       -6.770e+02, -1.355e+03, -9.540e+02, -4.280e+02, -2.110e+02,\n",
       "       -1.900e+01,  3.190e+02,  3.130e+02,  1.900e+02, -3.990e+02,\n",
       "        3.940e+02,  2.330e+02,  1.930e+02,  2.080e+02,  4.970e+02,\n",
       "       -4.600e+01, -3.710e+02, -6.080e+02, -5.580e+02, -8.600e+01,\n",
       "       -2.900e+01,  0.000e+00,  0.000e+00,  0.000e+00, -1.050e+02,\n",
       "       -2.640e+02, -5.010e+02, -7.340e+02, -1.561e+03, -1.503e+03,\n",
       "       -6.970e+02, -1.460e+02, -6.750e+02, -6.130e+02, -4.300e+01,\n",
       "       -1.210e+02, -1.590e+02,  1.680e+02, -1.220e+02, -3.590e+02,\n",
       "       -1.031e+03, -1.400e+01,  8.770e+02, -1.380e+02, -3.110e+02,\n",
       "        1.520e+02, -3.940e+02, -5.100e+01, -1.020e+02,  0.000e+00,\n",
       "        0.000e+00,  0.000e+00,  0.000e+00, -2.200e+01, -1.830e+02,\n",
       "       -7.870e+02, -1.183e+03, -9.220e+02, -2.920e+02,  9.400e+01,\n",
       "       -1.008e+03, -3.610e+02, -1.250e+02, -2.100e+01,  6.370e+02,\n",
       "        7.820e+02, -4.900e+01, -1.702e+03, -1.772e+03,  7.000e+00,\n",
       "        5.070e+02,  6.600e+01,  9.400e+01,  8.200e+01, -2.050e+02,\n",
       "       -2.540e+02, -1.680e+02,  0.000e+00,  0.000e+00,  0.000e+00,\n",
       "        0.000e+00,  0.000e+00,  0.000e+00, -4.880e+02, -7.210e+02,\n",
       "       -4.820e+02,  4.290e+02, -5.150e+02, -3.530e+02,  2.030e+02,\n",
       "        7.000e+00,  2.440e+02, -2.310e+02, -1.307e+03, -1.332e+03,\n",
       "       -1.597e+03, -5.190e+02,  4.710e+02,  1.870e+02,  4.170e+02,\n",
       "        1.208e+03,  2.410e+02,  5.600e+01, -4.400e+01, -2.000e+00,\n",
       "        0.000e+00,  0.000e+00,  0.000e+00,  0.000e+00,  0.000e+00,\n",
       "        0.000e+00,  3.170e+02,  3.530e+02, -1.400e+01,  2.130e+02,\n",
       "       -5.170e+02, -1.860e+02,  4.330e+02,  2.120e+02, -4.380e+02,\n",
       "       -1.509e+03, -2.100e+03, -2.118e+03, -1.181e+03, -9.300e+01,\n",
       "        7.500e+02,  7.820e+02,  2.520e+02,  1.606e+03,  6.920e+02,\n",
       "        3.030e+02,  0.000e+00,  0.000e+00,  0.000e+00,  0.000e+00,\n",
       "        0.000e+00,  0.000e+00,  0.000e+00,  0.000e+00,  5.710e+02,\n",
       "        4.480e+02,  2.120e+02, -4.090e+02, -7.150e+02,  4.340e+02,\n",
       "        6.380e+02,  6.200e+01, -1.123e+03, -1.966e+03, -2.272e+03,\n",
       "       -1.811e+03, -1.902e+03, -1.519e+03, -3.100e+02,  5.320e+02,\n",
       "        8.600e+01,  1.648e+03,  7.520e+02,  5.060e+02,  0.000e+00,\n",
       "        0.000e+00,  0.000e+00,  0.000e+00,  0.000e+00,  0.000e+00,\n",
       "        0.000e+00,  2.130e+02,  9.730e+02,  8.650e+02,  1.350e+02,\n",
       "        1.310e+02, -1.570e+02,  6.080e+02,  3.910e+02, -7.980e+02,\n",
       "       -1.464e+03, -1.868e+03, -1.465e+03, -1.560e+03, -1.250e+03,\n",
       "       -6.410e+02, -1.080e+02, -1.960e+02,  2.360e+02,  1.175e+03,\n",
       "        6.120e+02,  5.440e+02,  0.000e+00,  0.000e+00,  0.000e+00,\n",
       "        0.000e+00,  0.000e+00,  0.000e+00,  0.000e+00,  5.250e+02,\n",
       "        1.200e+03,  6.220e+02,  5.700e+01,  6.760e+02,  1.610e+02,\n",
       "        1.570e+02, -1.046e+03, -2.263e+03, -2.359e+03, -2.111e+03,\n",
       "       -1.415e+03, -6.320e+02, -9.700e+02,  3.520e+02, -8.400e+01,\n",
       "       -4.990e+02,  2.150e+02,  9.670e+02,  5.290e+02,  4.200e+02,\n",
       "        0.000e+00,  0.000e+00,  0.000e+00,  0.000e+00,  0.000e+00,\n",
       "        0.000e+00,  0.000e+00,  3.780e+02,  1.129e+03,  5.560e+02,\n",
       "        1.200e+02,  3.600e+01,  5.990e+02, -8.000e+00, -1.923e+03,\n",
       "       -2.518e+03, -2.633e+03, -2.211e+03, -1.073e+03, -8.080e+02,\n",
       "        6.800e+01,  6.120e+02, -5.580e+02, -6.010e+02,  4.370e+02,\n",
       "        9.140e+02,  7.730e+02, -4.700e+01,  0.000e+00,  0.000e+00,\n",
       "        0.000e+00,  0.000e+00,  0.000e+00,  0.000e+00,  0.000e+00,\n",
       "       -9.300e+01,  1.820e+02,  4.890e+02,  1.096e+03,  7.060e+02,\n",
       "        8.270e+02, -2.970e+02, -2.120e+03, -2.167e+03, -1.936e+03,\n",
       "       -1.256e+03, -6.500e+01, -6.180e+02, -4.630e+02, -6.220e+02,\n",
       "       -1.749e+03, -8.950e+02,  4.000e+02,  3.410e+02,  2.580e+02,\n",
       "        6.900e+01,  0.000e+00,  0.000e+00,  0.000e+00,  0.000e+00,\n",
       "        0.000e+00,  0.000e+00,  0.000e+00, -6.200e+01,  5.100e+01,\n",
       "        1.236e+03,  1.566e+03,  1.187e+03,  9.150e+02, -4.610e+02,\n",
       "       -6.260e+02, -1.058e+03, -5.430e+02, -8.650e+02, -3.220e+02,\n",
       "        2.980e+02, -2.540e+02, -1.281e+03, -1.040e+03,  1.010e+02,\n",
       "        2.600e+02,  2.950e+02,  1.210e+02, -8.200e+01,  0.000e+00,\n",
       "        0.000e+00,  0.000e+00,  0.000e+00,  0.000e+00,  0.000e+00,\n",
       "        0.000e+00, -6.860e+02, -3.220e+02,  6.970e+02,  8.600e+02,\n",
       "        9.530e+02,  7.140e+02,  2.030e+02,  5.430e+02,  6.110e+02,\n",
       "       -4.190e+02, -1.214e+03, -4.590e+02,  3.490e+02,  2.640e+02,\n",
       "       -3.700e+02, -1.150e+02,  1.280e+02, -1.000e+02,  3.850e+02,\n",
       "       -3.310e+02, -3.250e+02,  0.000e+00,  0.000e+00,  0.000e+00,\n",
       "        0.000e+00,  0.000e+00,  0.000e+00,  0.000e+00, -6.320e+02,\n",
       "       -2.530e+02,  4.920e+02,  8.270e+02,  6.890e+02,  7.970e+02,\n",
       "        2.430e+02, -3.920e+02, -1.112e+03, -1.089e+03, -5.860e+02,\n",
       "       -6.290e+02, -6.900e+01,  9.900e+01, -2.130e+02, -2.880e+02,\n",
       "       -1.680e+02,  4.320e+02,  1.170e+02, -4.040e+02, -5.300e+01,\n",
       "        0.000e+00,  0.000e+00,  0.000e+00,  0.000e+00,  0.000e+00,\n",
       "        0.000e+00,  0.000e+00,  5.800e+01,  5.700e+01,  3.350e+02,\n",
       "        3.270e+02,  8.230e+02,  1.445e+03,  4.630e+02, -1.430e+02,\n",
       "       -1.980e+02, -3.500e+02, -2.240e+02, -7.600e+01,  3.300e+02,\n",
       "       -1.940e+02, -3.430e+02, -3.400e+02, -5.000e+01, -1.350e+02,\n",
       "       -3.940e+02, -8.400e+01,  0.000e+00,  0.000e+00,  0.000e+00,\n",
       "        0.000e+00,  0.000e+00,  0.000e+00,  0.000e+00,  0.000e+00,\n",
       "        0.000e+00,  6.470e+02,  9.590e+02,  4.830e+02,  3.120e+02,\n",
       "        8.430e+02,  8.430e+02,  3.000e+02, -5.310e+02,  2.100e+02,\n",
       "        1.161e+03,  9.020e+02,  1.000e+02, -3.910e+02, -4.960e+02,\n",
       "       -7.450e+02, -6.840e+02, -2.610e+02, -9.500e+01,  0.000e+00,\n",
       "        0.000e+00,  0.000e+00,  0.000e+00,  0.000e+00,  0.000e+00,\n",
       "        0.000e+00,  0.000e+00,  0.000e+00,  0.000e+00,  3.910e+02,\n",
       "        9.130e+02,  1.575e+03,  1.306e+03,  5.330e+02,  6.750e+02,\n",
       "       -1.970e+02, -2.800e+02,  3.190e+02,  4.500e+01, -4.920e+02,\n",
       "       -8.180e+02, -7.980e+02, -8.560e+02, -7.260e+02, -4.310e+02,\n",
       "       -1.140e+02,  0.000e+00,  0.000e+00,  0.000e+00,  0.000e+00,\n",
       "        0.000e+00,  0.000e+00,  0.000e+00,  0.000e+00,  0.000e+00,\n",
       "        0.000e+00,  0.000e+00,  0.000e+00,  0.000e+00, -1.320e+02,\n",
       "       -2.550e+02, -1.330e+02, -3.310e+02, -3.730e+02, -5.060e+02,\n",
       "       -5.880e+02, -7.790e+02, -8.480e+02, -9.810e+02, -6.840e+02,\n",
       "       -2.660e+02, -2.180e+02, -2.310e+02, -4.400e+01,  0.000e+00,\n",
       "        0.000e+00,  0.000e+00,  0.000e+00,  0.000e+00,  0.000e+00,\n",
       "        0.000e+00,  0.000e+00,  0.000e+00,  0.000e+00,  0.000e+00,\n",
       "        0.000e+00, -1.320e+02, -4.680e+02, -5.040e+02, -5.910e+02,\n",
       "       -5.130e+02, -5.460e+02, -4.390e+02, -2.540e+02, -2.430e+02,\n",
       "       -2.630e+02, -4.700e+02, -2.810e+02, -1.400e+02, -3.000e+00,\n",
       "        0.000e+00,  0.000e+00,  0.000e+00,  0.000e+00,  0.000e+00,\n",
       "        0.000e+00,  0.000e+00,  0.000e+00,  0.000e+00,  0.000e+00,\n",
       "        0.000e+00,  0.000e+00,  0.000e+00,  0.000e+00, -3.220e+02,\n",
       "       -5.040e+02, -5.040e+02, -6.940e+02, -5.000e+02, -2.910e+02,\n",
       "       -4.900e+01,  0.000e+00,  0.000e+00, -1.900e+02, -2.000e+02,\n",
       "       -1.350e+02, -2.540e+02, -2.300e+01,  0.000e+00,  0.000e+00,\n",
       "        0.000e+00,  0.000e+00,  0.000e+00,  0.000e+00,  0.000e+00,\n",
       "        0.000e+00,  0.000e+00,  0.000e+00,  0.000e+00,  0.000e+00,\n",
       "        0.000e+00,  0.000e+00, -3.220e+02, -5.040e+02, -5.040e+02,\n",
       "       -2.570e+02, -2.660e+02, -1.890e+02,  0.000e+00,  0.000e+00,\n",
       "        0.000e+00,  0.000e+00,  0.000e+00,  0.000e+00,  0.000e+00,\n",
       "        0.000e+00,  0.000e+00,  0.000e+00,  0.000e+00,  0.000e+00,\n",
       "        0.000e+00,  0.000e+00,  0.000e+00,  0.000e+00])"
      ]
     },
     "execution_count": 43,
     "metadata": {},
     "output_type": "execute_result"
    }
   ],
   "source": [
    "L[0]"
   ]
  },
  {
   "cell_type": "code",
   "execution_count": 35,
   "metadata": {},
   "outputs": [
    {
     "data": {
      "text/plain": [
       "(100, 30, 1, 784)"
      ]
     },
     "execution_count": 35,
     "metadata": {},
     "output_type": "execute_result"
    }
   ],
   "source": [
    "my_text_of_x = text_of_x (noise_on_image[10:])\n",
    "my_text_of_x.shape"
   ]
  },
  {
   "cell_type": "code",
   "execution_count": 36,
   "metadata": {},
   "outputs": [],
   "source": [
    "def matrix_A_for_char (char):\n",
    "    A = np.zeros(10)\n",
    "    for i in range(10):\n",
    "        A[i] = np.dot(L[i],char[0])\n",
    "    a = np.argmax(A)\n",
    "    return int(a)"
   ]
  },
  {
   "cell_type": "code",
   "execution_count": 37,
   "metadata": {},
   "outputs": [
    {
     "data": {
      "text/plain": [
       "2"
      ]
     },
     "execution_count": 37,
     "metadata": {},
     "output_type": "execute_result"
    }
   ],
   "source": [
    "a = matrix_A_for_char (my_text_of_x[0][0])\n",
    "a"
   ]
  },
  {
   "cell_type": "code",
   "execution_count": 38,
   "metadata": {},
   "outputs": [],
   "source": [
    "def get_chars_for_images (im_text,text):\n",
    "    mas = np.zeros(text.shape); a,b=text.shape\n",
    "    for i in range(a):\n",
    "        for j in range(b):\n",
    "            mas[i][j]=matrix_A_for_char(im_text[i][j])\n",
    "    return mas\n",
    "            \n",
    "            "
   ]
  },
  {
   "cell_type": "code",
   "execution_count": 45,
   "metadata": {},
   "outputs": [
    {
     "data": {
      "image/png": "[encoded data removed]",
      "text/plain": [
       "<Figure size 432x288 with 1 Axes>"
      ]
     },
     "metadata": {
      "needs_background": "light"
     },
     "output_type": "display_data"
    },
    {
     "data": {
      "image/png": "[encoded data removed]",
      "text/plain": [
       "<Figure size 432x288 with 1 Axes>"
      ]
     },
     "metadata": {
      "needs_background": "light"
     },
     "output_type": "display_data"
    },
    {
     "data": {
      "image/png": "[encoded data removed]",
      "text/plain": [
       "<Figure size 432x288 with 1 Axes>"
      ]
     },
     "metadata": {
      "needs_background": "light"
     },
     "output_type": "display_data"
    },
    {
     "data": {
      "image/png": "[encoded data removed]",
      "text/plain": [
       "<Figure size 432x288 with 1 Axes>"
      ]
     },
     "metadata": {
      "needs_background": "light"
     },
     "output_type": "display_data"
    },
    {
     "data": {
      "image/png": "[encoded data removed]",
      "text/plain": [
       "<Figure size 432x288 with 1 Axes>"
      ]
     },
     "metadata": {
      "needs_background": "light"
     },
     "output_type": "display_data"
    },
    {
     "data": {
      "image/png": "[encoded data removed]",
      "text/plain": [
       "<Figure size 432x288 with 1 Axes>"
      ]
     },
     "metadata": {
      "needs_background": "light"
     },
     "output_type": "display_data"
    },
    {
     "data": {
      "image/png": "[encoded data removed]",
      "text/plain": [
       "<Figure size 432x288 with 1 Axes>"
      ]
     },
     "metadata": {
      "needs_background": "light"
     },
     "output_type": "display_data"
    },
    {
     "data": {
      "image/png": "[encoded data removed]",
      "text/plain": [
       "<Figure size 432x288 with 1 Axes>"
      ]
     },
     "metadata": {
      "needs_background": "light"
     },
     "output_type": "display_data"
    },
    {
     "data": {
      "image/png": "[encoded data removed]",
      "text/plain": [
       "<Figure size 432x288 with 1 Axes>"
      ]
     },
     "metadata": {
      "needs_background": "light"
     },
     "output_type": "display_data"
    },
    {
     "data": {
      "image/png": "[encoded data removed]",
      "text/plain": [
       "<Figure size 432x288 with 1 Axes>"
      ]
     },
     "metadata": {
      "needs_background": "light"
     },
     "output_type": "display_data"
    }
   ],
   "source": [
    "image_text_1 = image_text[10:]\n",
    "generated_texts_1 = generated_texts[10:]\n",
    "noise_on_image_1 = noise_on_image[10:]\n",
    "#char_i_j (image_text_1,0,0)\n",
    "for  i in range(10):\n",
    "    plt.imshow(L[i].reshape((28,28)), cmap=plt.get_cmap('gray'))\n",
    "    plt.axis('off')\n",
    "    plt.show()\n",
    "\n",
    "#print(generated_texts_1[0][0])"
   ]
  },
  {
   "cell_type": "code",
   "execution_count": 40,
   "metadata": {},
   "outputs": [
    {
     "name": "stdout",
     "output_type": "stream",
     "text": [
      "(100, 30)\n",
      "Right answers 2372\n",
      "=> Accuracy: 0.7906666666666666\n",
      "REAL\n",
      "[[2 5 8 ... 5 5 1]\n",
      " [3 8 0 ... 0 3 6]\n",
      " [6 5 1 ... 4 2 6]\n",
      " ...\n",
      " [2 2 6 ... 1 7 0]\n",
      " [8 9 9 ... 5 7 7]\n",
      " [4 0 5 ... 5 9 2]]\n",
      "OUR RESULTS\n",
      "[[2. 5. 1. ... 5. 9. 1.]\n",
      " [3. 8. 0. ... 0. 3. 6.]\n",
      " [6. 5. 1. ... 4. 2. 6.]\n",
      " ...\n",
      " [2. 2. 6. ... 1. 7. 5.]\n",
      " [8. 2. 9. ... 8. 9. 9.]\n",
      " [4. 0. 5. ... 5. 9. 2.]]\n"
     ]
    }
   ],
   "source": [
    "a,b = generated_texts_1.shape\n",
    "print(generated_texts_1.shape)\n",
    "m = get_chars_for_images (my_text_of_x,generated_texts_1)\n",
    "c = (m==generated_texts_1).sum()\n",
    "print('Right answers',c)\n",
    "print(\"=> Accuracy:\", c/(a*b))\n",
    "print (\"REAL\")\n",
    "print(generated_texts_1)\n",
    "print (\"OUR RESULTS\")\n",
    "print(m)"
   ]
  }
 ],
 "metadata": {
  "kernelspec": {
   "display_name": "Python 3 (ipykernel)",
   "language": "python",
   "name": "python3"
  },
  "language_info": {
   "codemirror_mode": {
    "name": "ipython",
    "version": 3
   },
   "file_extension": ".py",
   "mimetype": "text/x-python",
   "name": "python",
   "nbconvert_exporter": "python",
   "pygments_lexer": "ipython3",
   "version": "3.9.6"
  }
 },
 "nbformat": 4,
 "nbformat_minor": 4
}
